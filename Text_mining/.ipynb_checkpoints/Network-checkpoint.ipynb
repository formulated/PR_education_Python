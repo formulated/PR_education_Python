{
 "cells": [
  {
   "cell_type": "code",
   "execution_count": null,
   "id": "478c3346-f4f5-4bfb-ae7b-9f062a327ee2",
   "metadata": {},
   "outputs": [],
   "source": [
    "import matplotlib.pyplot as plt\n",
    "import networkx as nx"
   ]
  },
  {
   "cell_type": "markdown",
   "id": "f3444ae6-1db3-47b3-a668-2eb8362076b4",
   "metadata": {},
   "source": [
    "### Loading Twitter data"
   ]
  },
  {
   "cell_type": "code",
   "execution_count": null,
   "id": "f7f375f5-d377-4bf9-9123-072e26100fc3",
   "metadata": {},
   "outputs": [],
   "source": [
    "mydata = pd.read_csv(\"Twitter_data.csv\", index_col=0)\n",
    "mydata"
   ]
  },
  {
   "cell_type": "markdown",
   "id": "8f6b0d83-2941-4ed0-aa7a-6daf3cef2c4a",
   "metadata": {},
   "source": [
    "### Network by mentions. \n",
    "\"From\" indicates people who mention a certain account, while \"to\" is a mentioned account by \"from\". The number of mentions is \"n.\""
   ]
  },
  {
   "cell_type": "code",
   "execution_count": null,
   "id": "0eff764d-cb48-4887-a5f8-654249ea8d4b",
   "metadata": {},
   "outputs": [],
   "source": [
    "mention_list = mydata.text.str.extractall(r\"(?<=^|(?<=[^a-zA-Z0-9-_\\.]))@([A-Za-z]+[A-Za-z0-9-_]+)\")\n",
    "mention_list = mention_list.reset_index().rename(columns = {\"level_0\": \"index1\", \n",
    "                                                            \"match\": \"index2\",\n",
    "                                                            0: \"mentioned\"})\n",
    "mention_df = mention_list.merge(mydata['username'], left_on=\"index1\", right_index=True)\n",
    "mention_df = mention_df.rename(columns = {\"mentioned\": \"from\", \n",
    "                             \"username\": \"to\"})\n",
    "mention_df"
   ]
  },
  {
   "cell_type": "markdown",
   "id": "14d6bc51-d7b8-4865-98a4-e28073f835aa",
   "metadata": {},
   "source": [
    "### Network object generator from the above data"
   ]
  },
  {
   "cell_type": "code",
   "execution_count": null,
   "id": "9e2e90e1-af00-412b-ae8b-aebccc3d365d",
   "metadata": {},
   "outputs": [],
   "source": [
    "G = nx.from_pandas_edgelist(mention_df, source = \"from\", target = \"to\")"
   ]
  },
  {
   "cell_type": "markdown",
   "id": "4b3fa470-4141-4dab-8dd6-307ec98fc2d1",
   "metadata": {},
   "source": [
    "### Visualization"
   ]
  },
  {
   "cell_type": "code",
   "execution_count": 220,
   "id": "608023e2-e5aa-4fed-a425-17e0cd8b7116",
   "metadata": {},
   "outputs": [
    {
     "data": {
      "image/png": "[encoded data removed]",
      "text/plain": [
       "<Figure size 432x288 with 1 Axes>"
      ]
     },
     "metadata": {},
     "output_type": "display_data"
    }
   ],
   "source": [
    "nx.draw_spring(G)"
   ]
  },
  {
   "cell_type": "markdown",
   "id": "ef2c126f-c8cb-4b70-a900-72b34d0fa4d8",
   "metadata": {},
   "source": [
    "### Centrality"
   ]
  },
  {
   "cell_type": "markdown",
   "id": "d5d7e0f9-fa7d-4680-aa53-1f1f50eec061",
   "metadata": {},
   "source": [
    "If you change \"degree_centrality\" with other algorithms, you can calculate other types of centrality such as in-degree/out-degree centrality, betweenness_centrality, and, eigenvector_centrality. See at https://networkx.org/documentation/stable/reference/algorithms/index.html"
   ]
  },
  {
   "cell_type": "markdown",
   "id": "6dba0e38-46a1-497d-9e90-ef37e5f120df",
   "metadata": {},
   "source": [
    "- Degree centrality"
   ]
  },
  {
   "cell_type": "code",
   "execution_count": null,
   "id": "547a63b6-d561-491a-9800-dae854cb22db",
   "metadata": {},
   "outputs": [],
   "source": [
    "deg_centrality = nx.degree_centrality(G)\n",
    "deg_centrality"
   ]
  },
  {
   "cell_type": "markdown",
   "id": "832964ac-b6e2-4de9-9811-10363512731d",
   "metadata": {},
   "source": [
    "- Betweenness centrality"
   ]
  },
  {
   "cell_type": "code",
   "execution_count": null,
   "id": "8cc9250e-f658-4f64-872f-9786e908a758",
   "metadata": {},
   "outputs": [],
   "source": [
    "bet_centrality = nx.betweenness_centrality(G)\n",
    "bet_centrality"
   ]
  },
  {
   "cell_type": "markdown",
   "id": "9672206f-9f12-4d59-91c7-5c3fe4c7a64d",
   "metadata": {
    "tags": []
   },
   "source": [
    "### Gephi\n",
    "Gephi provide visually attractive network. Following code is to transform the above dataframe into Gephi-friendly format"
   ]
  },
  {
   "cell_type": "code",
   "execution_count": null,
   "id": "1d1df38f-b406-447e-807c-d50437b81b3a",
   "metadata": {},
   "outputs": [],
   "source": [
    "Gephi_df = mention_df.groupby(['from', 'to']).size().to_frame().reset_index().rename(columns=\n",
    "                                                                                     {\"from\": \"source\",\n",
    "                                                                                     \"to\": \"target\",\n",
    "                                                                                     0:\"n\"})\n",
    "Gephi_df"
   ]
  },
  {
   "cell_type": "markdown",
   "id": "68d18806-36ba-4a93-8fad-00254d32cfb3",
   "metadata": {},
   "source": [
    "### Loading the file on Gephi\n",
    "On Gephi, file -> import spreadsheet -> open excel file (Gephi_df.xlsx) -> import as \"Edges table\" in general excel options -> finish -> ok"
   ]
  },
  {
   "cell_type": "code",
   "execution_count": null,
   "id": "0bad0682-a0d3-43e1-af5c-7a2a2afb3ffc",
   "metadata": {},
   "outputs": [],
   "source": [
    "Gephi_df.to_excel(\"Gephi_df.xlsx\")"
   ]
  }
 ],
 "metadata": {
  "kernelspec": {
   "display_name": "Python 3",
   "language": "python",
   "name": "python3"
  },
  "language_info": {
   "codemirror_mode": {
    "name": "ipython",
    "version": 3
   },
   "file_extension": ".py",
   "mimetype": "text/x-python",
   "name": "python",
   "nbconvert_exporter": "python",
   "pygments_lexer": "ipython3",
   "version": "3.8.8"
  }
 },
 "nbformat": 4,
 "nbformat_minor": 5
}
